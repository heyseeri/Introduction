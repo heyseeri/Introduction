{
  "cells": [
    {
      "cell_type": "markdown",
      "metadata": {
        "id": "view-in-github",
        "colab_type": "text"
      },
      "source": [
        "<a href=\"https://colab.research.google.com/github/heyseeri/Introduction/blob/main/pandas_assignment_day_10.ipynb\" target=\"_parent\"><img src=\"https://colab.research.google.com/assets/colab-badge.svg\" alt=\"Open In Colab\"/></a>"
      ]
    },
    {
      "cell_type": "markdown",
      "id": "c54a1e2b",
      "metadata": {
        "id": "c54a1e2b"
      },
      "source": [
        "# <center>Pandas Assignment</center>"
      ]
    },
    {
      "cell_type": "markdown",
      "id": "a8d1d44f",
      "metadata": {
        "id": "a8d1d44f"
      },
      "source": [
        "Import pandas and numpy with their aliases"
      ]
    },
    {
      "cell_type": "code",
      "execution_count": null,
      "id": "52378878",
      "metadata": {
        "id": "52378878"
      },
      "outputs": [],
      "source": [
        "\n",
        "import pandas as pd\n",
        "import numpy as np\n"
      ]
    },
    {
      "cell_type": "markdown",
      "id": "9297af5f",
      "metadata": {
        "id": "9297af5f"
      },
      "source": [
        "Create a variable a = pd.Series([ 100, 200, 300, 400])"
      ]
    },
    {
      "cell_type": "code",
      "execution_count": null,
      "id": "6c1d8c78",
      "metadata": {
        "id": "6c1d8c78",
        "colab": {
          "base_uri": "https://localhost:8080/"
        },
        "outputId": "6ca39ce7-0e72-4eed-afa6-f409f4241045"
      },
      "outputs": [
        {
          "output_type": "stream",
          "name": "stdout",
          "text": [
            "0    100\n",
            "1    200\n",
            "2    300\n",
            "3    400\n",
            "dtype: int64\n"
          ]
        }
      ],
      "source": [
        "\n",
        "import pandas as pd\n",
        "\n",
        "a = pd.Series([100, 200, 300, 400])\n",
        "\n",
        "print(a)"
      ]
    },
    {
      "cell_type": "markdown",
      "id": "cc4c28f5",
      "metadata": {
        "id": "cc4c28f5"
      },
      "source": [
        "Print a, and data type"
      ]
    },
    {
      "cell_type": "code",
      "execution_count": null,
      "id": "3d9d3fc5",
      "metadata": {
        "id": "3d9d3fc5",
        "outputId": "21641bde-e376-43bf-ab5d-a3380aefd8fd",
        "colab": {
          "base_uri": "https://localhost:8080/"
        }
      },
      "outputs": [
        {
          "output_type": "stream",
          "name": "stdout",
          "text": [
            "Series a:\n",
            "0    100\n",
            "1    200\n",
            "2    300\n",
            "3    400\n",
            "dtype: int64\n",
            "\n",
            "Data type of values in a: int64\n",
            "Data type of a: <class 'pandas.core.series.Series'>\n"
          ]
        }
      ],
      "source": [
        "import pandas as pd\n",
        "import numpy as np\n",
        "\n",
        "a = pd.Series([100, 200, 300, 400])\n",
        "\n",
        "print(\"Series a:\")\n",
        "print(a)\n",
        "\n",
        "print(\"\\nData type of values in a:\", a.dtype)\n",
        "\n",
        "\n",
        "print(\"Data type of a:\", type(a))\n",
        "\n",
        "\n"
      ]
    },
    {
      "cell_type": "markdown",
      "id": "2f876626",
      "metadata": {
        "id": "2f876626"
      },
      "source": [
        "Using indexing access the element 300 from the series a."
      ]
    },
    {
      "cell_type": "code",
      "execution_count": null,
      "id": "bc18d9a1",
      "metadata": {
        "id": "bc18d9a1",
        "outputId": "73244783-1cac-461a-f8fe-2261b52198a6",
        "colab": {
          "base_uri": "https://localhost:8080/"
        }
      },
      "outputs": [
        {
          "output_type": "stream",
          "name": "stdout",
          "text": [
            "Element at index 2: 300\n"
          ]
        }
      ],
      "source": [
        "\n",
        "import pandas as pd\n",
        "\n",
        "a = pd.Series([100, 200, 300, 400])\n",
        "print(\"Element at index 2:\", a[2])"
      ]
    },
    {
      "cell_type": "markdown",
      "id": "8c69907e",
      "metadata": {
        "id": "8c69907e"
      },
      "source": [
        "What are the values of index for series a?"
      ]
    },
    {
      "cell_type": "code",
      "execution_count": null,
      "id": "3d311860",
      "metadata": {
        "id": "3d311860",
        "outputId": "08802c4d-70d8-44ec-a2e8-69d35a05ce5c",
        "colab": {
          "base_uri": "https://localhost:8080/"
        }
      },
      "outputs": [
        {
          "output_type": "stream",
          "name": "stdout",
          "text": [
            "0    100\n",
            "1    200\n",
            "2    300\n",
            "3    400\n",
            "dtype: int64\n"
          ]
        }
      ],
      "source": [
        "\n",
        "import pandas as pd\n",
        "\n",
        "a = pd.Series([100, 200, 300, 400])\n",
        "print(a)\n"
      ]
    },
    {
      "cell_type": "markdown",
      "id": "e1628873",
      "metadata": {
        "id": "e1628873"
      },
      "source": [
        "Change the index to  ['c', 'a', 'b', 'd']"
      ]
    },
    {
      "cell_type": "code",
      "execution_count": null,
      "id": "8f2c4a0f",
      "metadata": {
        "id": "8f2c4a0f",
        "outputId": "7bb7b14b-25d7-4f02-ee04-9442f0a0c0e1",
        "colab": {
          "base_uri": "https://localhost:8080/"
        }
      },
      "outputs": [
        {
          "output_type": "stream",
          "name": "stdout",
          "text": [
            "c    100\n",
            "a    200\n",
            "b    300\n",
            "d    400\n",
            "dtype: int64\n"
          ]
        }
      ],
      "source": [
        "import pandas as pd\n",
        "\n",
        "a = pd.Series([100, 200, 300, 400], index=['c', 'a', 'b', 'd'])\n",
        "\n",
        "print(a)"
      ]
    },
    {
      "cell_type": "markdown",
      "id": "c4b37c02",
      "metadata": {
        "id": "c4b37c02"
      },
      "source": [
        "Access the value in the series with index 'd'"
      ]
    },
    {
      "cell_type": "code",
      "execution_count": null,
      "id": "6d79755f",
      "metadata": {
        "id": "6d79755f",
        "outputId": "8204bb1e-f799-4849-dbb8-36824b353903",
        "colab": {
          "base_uri": "https://localhost:8080/"
        }
      },
      "outputs": [
        {
          "output_type": "stream",
          "name": "stdout",
          "text": [
            "400\n"
          ]
        }
      ],
      "source": [
        "print(a['d'])\n",
        "\n"
      ]
    },
    {
      "cell_type": "markdown",
      "id": "47a73190",
      "metadata": {
        "id": "47a73190"
      },
      "source": [
        "Sort the values wrt to the index and print it"
      ]
    },
    {
      "cell_type": "code",
      "execution_count": null,
      "id": "8689cb31",
      "metadata": {
        "id": "8689cb31",
        "outputId": "a1fbf7fc-086c-4475-ced8-5bbed9cb223b",
        "colab": {
          "base_uri": "https://localhost:8080/"
        }
      },
      "outputs": [
        {
          "output_type": "stream",
          "name": "stdout",
          "text": [
            "a    200\n",
            "b    300\n",
            "c    100\n",
            "d    400\n",
            "dtype: int64\n"
          ]
        }
      ],
      "source": [
        "\n",
        "print(a.sort_index())\n",
        "\n"
      ]
    },
    {
      "cell_type": "markdown",
      "id": "ca7f6e5b",
      "metadata": {
        "id": "ca7f6e5b"
      },
      "source": [
        "Create a new Pandas Series b having index as 'e', 'f', and 'g' and value 800,450,100 and print it"
      ]
    },
    {
      "cell_type": "code",
      "execution_count": null,
      "id": "99e6089b",
      "metadata": {
        "id": "99e6089b",
        "outputId": "aa686142-b5dd-4ca3-dcfb-a004ff2482b7",
        "colab": {
          "base_uri": "https://localhost:8080/"
        }
      },
      "outputs": [
        {
          "output_type": "stream",
          "name": "stdout",
          "text": [
            "e    800\n",
            "f    450\n",
            "g    100\n",
            "dtype: int64\n"
          ]
        }
      ],
      "source": [
        "# b = import pandas as pd\n",
        "\n",
        "b = pd.Series([800, 450, 100], index=['e', 'f', 'g'])\n",
        "print(b)\n",
        "\n",
        "\n",
        "\n",
        "\n"
      ]
    },
    {
      "cell_type": "markdown",
      "id": "bfc1ba39",
      "metadata": {
        "id": "bfc1ba39"
      },
      "source": [
        "Append b series at the end of a series"
      ]
    },
    {
      "cell_type": "code",
      "execution_count": null,
      "id": "fa209fc8",
      "metadata": {
        "id": "fa209fc8",
        "colab": {
          "base_uri": "https://localhost:8080/"
        },
        "outputId": "b726019d-1727-4986-c034-d059944bf58f"
      },
      "outputs": [
        {
          "output_type": "stream",
          "name": "stdout",
          "text": [
            "c    100\n",
            "a    200\n",
            "b    300\n",
            "d    400\n",
            "e    800\n",
            "f    450\n",
            "g    100\n",
            "dtype: int64\n"
          ]
        }
      ],
      "source": [
        "# a =\n",
        "\n",
        "import pandas as pd\n",
        "\n",
        "\n",
        "a = pd.Series([100, 200, 300, 400], index=['c', 'a', 'b', 'd'])\n",
        "b = pd.Series([800, 450, 100], index=['e', 'f', 'g'])\n",
        "\n",
        "result = pd.concat([a, b])\n",
        "\n",
        "print(result)"
      ]
    },
    {
      "cell_type": "markdown",
      "id": "cfdfa75c",
      "metadata": {
        "id": "cfdfa75c"
      },
      "source": [
        "Sort the values in descending order of a and print the index of the sorted series"
      ]
    },
    {
      "cell_type": "code",
      "execution_count": null,
      "id": "3573d8af",
      "metadata": {
        "id": "3573d8af",
        "colab": {
          "base_uri": "https://localhost:8080/"
        },
        "outputId": "b7d063dc-ca22-40cc-9e12-93f979647f0c"
      },
      "outputs": [
        {
          "output_type": "stream",
          "name": "stdout",
          "text": [
            "Sorted values in descending order:\n",
            "e    800\n",
            "f    450\n",
            "d    400\n",
            "b    300\n",
            "a    200\n",
            "c    100\n",
            "g    100\n",
            "dtype: int64\n",
            "\n",
            "Index of the sorted series:\n",
            "Index(['e', 'f', 'd', 'b', 'a', 'c', 'g'], dtype='object')\n"
          ]
        }
      ],
      "source": [
        "# a =\n",
        "\n"
      ]
    },
    {
      "cell_type": "markdown",
      "id": "bf4a9a10",
      "metadata": {
        "id": "bf4a9a10"
      },
      "source": [
        "### Part 1"
      ]
    },
    {
      "cell_type": "markdown",
      "id": "9229127e",
      "metadata": {
        "id": "9229127e"
      },
      "source": [
        "Create a pandas dataframe df from the series 'a' that we used in the last section, print the dataframe"
      ]
    },
    {
      "cell_type": "code",
      "execution_count": null,
      "id": "2c35712a",
      "metadata": {
        "id": "2c35712a",
        "outputId": "0f729cb3-ea76-4a01-8283-a3f8068c5279",
        "colab": {
          "base_uri": "https://localhost:8080/"
        }
      },
      "outputs": [
        {
          "output_type": "stream",
          "name": "stdout",
          "text": [
            "Pandas DataFrame:\n",
            "   Values\n",
            "c     100\n",
            "a     200\n",
            "b     300\n",
            "d     400\n",
            "e     800\n",
            "f     450\n",
            "g     100\n"
          ]
        }
      ],
      "source": [
        "# df =\n",
        "import pandas as pd\n",
        "\n",
        "\n",
        "a = pd.Series([100, 200, 300, 400], index=['c', 'a', 'b', 'd'])\n",
        "b = pd.Series([800, 450, 100], index=['e', 'f', 'g'])\n",
        "\n",
        "\n",
        "a = pd.concat([a, b])\n",
        "\n",
        "df = a.to_frame(name=\"Values\")\n",
        "\n",
        "print(\"Pandas DataFrame:\")\n",
        "print(df)\n",
        "\n",
        "\n",
        "\n",
        "\n"
      ]
    },
    {
      "cell_type": "markdown",
      "id": "80fb36a8",
      "metadata": {
        "id": "80fb36a8"
      },
      "source": [
        "What is the shape of the datafarme <br>\n",
        "(also, what does it imply?)"
      ]
    },
    {
      "cell_type": "code",
      "execution_count": null,
      "id": "693afb7d",
      "metadata": {
        "id": "693afb7d",
        "outputId": "3c022d7b-7a66-42ab-fcc6-30875883f250",
        "colab": {
          "base_uri": "https://localhost:8080/"
        }
      },
      "outputs": [
        {
          "output_type": "stream",
          "name": "stdout",
          "text": [
            "(7, 1)\n"
          ]
        }
      ],
      "source": [
        "\n",
        "print(df.shape)\n",
        "\n"
      ]
    },
    {
      "cell_type": "markdown",
      "id": "37344075",
      "metadata": {
        "id": "37344075"
      },
      "source": [
        "Hey! remember shape (7,1) implies dataframe has 7 rows and 1 column."
      ]
    },
    {
      "cell_type": "markdown",
      "id": "4cb33487",
      "metadata": {
        "id": "4cb33487"
      },
      "source": [
        "What is the index of the dataframe, is it same as the series 'a'"
      ]
    },
    {
      "cell_type": "code",
      "execution_count": null,
      "id": "ce814bdc",
      "metadata": {
        "id": "ce814bdc",
        "outputId": "8e82c37d-857a-433d-8235-a3aa439a245e",
        "colab": {
          "base_uri": "https://localhost:8080/"
        }
      },
      "outputs": [
        {
          "output_type": "stream",
          "name": "stdout",
          "text": [
            "Index(['c', 'a', 'b', 'd', 'e', 'f', 'g'], dtype='object')\n"
          ]
        }
      ],
      "source": [
        "print(df.index)\n",
        "\n"
      ]
    },
    {
      "cell_type": "markdown",
      "id": "301f831f",
      "metadata": {
        "id": "301f831f"
      },
      "source": [
        "print the head and tail of the dataframe. <br>\n",
        "Additional - (what does head and tali represent?)"
      ]
    },
    {
      "cell_type": "code",
      "execution_count": null,
      "id": "d06ddc03",
      "metadata": {
        "id": "d06ddc03",
        "outputId": "fc291e48-8857-434d-c5f1-97751974f4a8",
        "colab": {
          "base_uri": "https://localhost:8080/"
        }
      },
      "outputs": [
        {
          "output_type": "stream",
          "name": "stdout",
          "text": [
            "Head of dataframe:\n",
            "   Values\n",
            "c     100\n",
            "a     200\n",
            "b     300\n",
            "d     400\n",
            "e     800\n",
            "\n",
            "Tail of dataframe:\n",
            "   Values\n",
            "b     300\n",
            "d     400\n",
            "e     800\n",
            "f     450\n",
            "g     100\n"
          ]
        }
      ],
      "source": [
        "print(\"Head of dataframe:\")\n",
        "print(df.head())\n",
        "\n",
        "print(\"\\nTail of dataframe:\")\n",
        "print(df.tail())\n",
        "\n"
      ]
    },
    {
      "cell_type": "markdown",
      "id": "f2d30767",
      "metadata": {
        "id": "f2d30767"
      },
      "source": [
        "Rename the column of the dataframe as 'points'"
      ]
    },
    {
      "cell_type": "code",
      "execution_count": null,
      "id": "f6e91698",
      "metadata": {
        "id": "f6e91698",
        "outputId": "356d49f0-5568-4a65-8284-438ed1409fee",
        "colab": {
          "base_uri": "https://localhost:8080/"
        }
      },
      "outputs": [
        {
          "output_type": "stream",
          "name": "stdout",
          "text": [
            "   points\n",
            "c     100\n",
            "a     200\n",
            "b     300\n",
            "d     400\n",
            "e     800\n",
            "f     450\n",
            "g     100\n"
          ]
        }
      ],
      "source": [
        "\n",
        "df.columns = ['points']\n",
        "print(df)\n",
        "\n"
      ]
    },
    {
      "cell_type": "markdown",
      "id": "3fbc4be2",
      "metadata": {
        "id": "3fbc4be2"
      },
      "source": [
        "Create another Series 'fruits', which contains random names of fruits from ['orange','mango','apple']. The series should contain 7 elements, randomly selected from ['orange','mango','apple']"
      ]
    },
    {
      "cell_type": "code",
      "execution_count": null,
      "id": "1daf1792",
      "metadata": {
        "id": "1daf1792",
        "outputId": "dcbb6776-6673-471b-9c0b-2b7af1a4ef6a",
        "colab": {
          "base_uri": "https://localhost:8080/"
        }
      },
      "outputs": [
        {
          "output_type": "stream",
          "name": "stdout",
          "text": [
            "0     mango\n",
            "1     apple\n",
            "2     apple\n",
            "3    orange\n",
            "4     apple\n",
            "5     apple\n",
            "6     mango\n",
            "dtype: object\n"
          ]
        }
      ],
      "source": [
        "#Create fruits array\n",
        "\n",
        "# fruits =\n",
        "import numpy as np\n",
        "import pandas as pd\n",
        "\n",
        "# create random fruits series\n",
        "fruits = pd.Series(np.random.choice(['orange', 'mango', 'apple'], size=7))\n",
        "\n",
        "print(fruits)\n",
        "\n",
        "\n"
      ]
    },
    {
      "cell_type": "code",
      "execution_count": null,
      "id": "54206e12",
      "metadata": {
        "id": "54206e12",
        "outputId": "3610afd3-c1eb-4e94-98fd-2d7f90d5863f",
        "colab": {
          "base_uri": "https://localhost:8080/"
        }
      },
      "outputs": [
        {
          "output_type": "stream",
          "name": "stdout",
          "text": [
            "0    orange\n",
            "1     mango\n",
            "2     apple\n",
            "3    orange\n",
            "4    orange\n",
            "5     apple\n",
            "6     apple\n",
            "dtype: object\n"
          ]
        }
      ],
      "source": [
        "#Create series fruits out of fruits array\n",
        "\n",
        "# fruits =\n",
        "\n",
        "import numpy as np\n",
        "import pandas as pd\n",
        "\n",
        "# fruits array\n",
        "fruits_array = np.random.choice(['orange', 'mango', 'apple'], size=7)\n",
        "\n",
        "# create series from fruits array\n",
        "fruits = pd.Series(fruits_array)\n",
        "\n",
        "print(fruits)\n"
      ]
    },
    {
      "cell_type": "markdown",
      "id": "a4dde01c",
      "metadata": {
        "id": "a4dde01c"
      },
      "source": [
        "Change the index of fruits to the index of dataframe df"
      ]
    },
    {
      "cell_type": "code",
      "execution_count": null,
      "id": "6648fe8b",
      "metadata": {
        "id": "6648fe8b",
        "outputId": "a377159e-fc5a-4c93-f955-f7697f037b17",
        "colab": {
          "base_uri": "https://localhost:8080/"
        }
      },
      "outputs": [
        {
          "output_type": "stream",
          "name": "stdout",
          "text": [
            "c    orange\n",
            "a     mango\n",
            "b     apple\n",
            "d    orange\n",
            "e    orange\n",
            "f     apple\n",
            "g     apple\n",
            "dtype: object\n"
          ]
        }
      ],
      "source": [
        "\n",
        "fruits.index = df.index\n",
        "\n",
        "print(fruits)\n",
        "\n",
        "\n"
      ]
    },
    {
      "cell_type": "markdown",
      "id": "11ad889c",
      "metadata": {
        "id": "11ad889c"
      },
      "source": [
        "Add this fruits series as a new column to the dataframe df with its column name as 'fruits'\n",
        "<br>print the head of the dataframe to verify"
      ]
    },
    {
      "cell_type": "code",
      "execution_count": null,
      "id": "0bd7a9ed",
      "metadata": {
        "id": "0bd7a9ed",
        "outputId": "6e975ae3-3dbc-4e6b-b4f7-3bda58b69c0d",
        "colab": {
          "base_uri": "https://localhost:8080/"
        }
      },
      "outputs": [
        {
          "output_type": "stream",
          "name": "stdout",
          "text": [
            "   points  fruits\n",
            "c     100  orange\n",
            "a     200   mango\n",
            "b     300   apple\n",
            "d     400  orange\n",
            "e     800  orange\n"
          ]
        }
      ],
      "source": [
        "\n",
        "df['fruits'] = fruits\n",
        "\n",
        "print(df.head())\n"
      ]
    },
    {
      "cell_type": "markdown",
      "id": "6a509ba6",
      "metadata": {
        "id": "6a509ba6"
      },
      "source": [
        "## Pandas Concatenation"
      ]
    },
    {
      "cell_type": "markdown",
      "id": "7dec9c6b",
      "metadata": {
        "id": "7dec9c6b"
      },
      "source": [
        "Create a dataframe  d1 where the cols are  ‘city’ : [‘Chandigarh’, ‘Delhi’, ‘Kanpur’, ‘Chennai’, ‘Manali’ ] and ‘Temperature’ : [15, 22, 20, 26,-2]"
      ]
    },
    {
      "cell_type": "code",
      "execution_count": null,
      "id": "f678f04d",
      "metadata": {
        "id": "f678f04d",
        "colab": {
          "base_uri": "https://localhost:8080/"
        },
        "outputId": "1b75fdae-2db8-4362-cf0f-1dea6a3ee751"
      },
      "outputs": [
        {
          "output_type": "stream",
          "name": "stdout",
          "text": [
            "         city  Temperature\n",
            "0  Chandigarh           15\n",
            "1       Delhi           22\n",
            "2      Kanpur           20\n",
            "3     Chennai           26\n",
            "4      Manali           -2\n"
          ]
        }
      ],
      "source": [
        "\n",
        "import pandas as pd\n",
        "\n",
        "d1 = pd.DataFrame({\n",
        "    'city': ['Chandigarh', 'Delhi', 'Kanpur', 'Chennai', 'Manali'],\n",
        "    'Temperature': [15, 22, 20, 26, -2]\n",
        "})\n",
        "\n",
        "print(d1)\n",
        "\n"
      ]
    },
    {
      "cell_type": "markdown",
      "id": "cb3d3d4f",
      "metadata": {
        "id": "cb3d3d4f"
      },
      "source": [
        "Print(d1)"
      ]
    },
    {
      "cell_type": "code",
      "execution_count": null,
      "id": "e22ad154",
      "metadata": {
        "id": "e22ad154",
        "outputId": "c72c761f-f837-466a-968d-9bb4de1c2d5c",
        "colab": {
          "base_uri": "https://localhost:8080/"
        }
      },
      "outputs": [
        {
          "output_type": "stream",
          "name": "stdout",
          "text": [
            "         city  Temperature\n",
            "0  Chandigarh           15\n",
            "1       Delhi           22\n",
            "2      Kanpur           20\n",
            "3     Chennai           26\n",
            "4      Manali           -2\n"
          ]
        }
      ],
      "source": [
        "\n",
        "print(d1)\n",
        "\n",
        "\n",
        "\n",
        "\n"
      ]
    },
    {
      "cell_type": "markdown",
      "id": "f9e1ffc0",
      "metadata": {
        "id": "f9e1ffc0"
      },
      "source": [
        "What is the shape of d1."
      ]
    },
    {
      "cell_type": "code",
      "execution_count": null,
      "id": "3ff60454",
      "metadata": {
        "id": "3ff60454",
        "outputId": "37b7a861-ecc3-44d0-a355-df3e5fba2efc",
        "colab": {
          "base_uri": "https://localhost:8080/"
        }
      },
      "outputs": [
        {
          "output_type": "stream",
          "name": "stdout",
          "text": [
            "(5, 2)\n"
          ]
        }
      ],
      "source": [
        "\n",
        "print(d1.shape)\n",
        "\n"
      ]
    },
    {
      "cell_type": "markdown",
      "id": "acb81993",
      "metadata": {
        "id": "acb81993"
      },
      "source": [
        "Set city = d1['city']"
      ]
    },
    {
      "cell_type": "code",
      "execution_count": null,
      "id": "670eb9aa",
      "metadata": {
        "id": "670eb9aa",
        "colab": {
          "base_uri": "https://localhost:8080/"
        },
        "outputId": "b157e3a4-eff2-4b4a-ef02-6581c8821aa8"
      },
      "outputs": [
        {
          "output_type": "stream",
          "name": "stdout",
          "text": [
            "0    Chandigarh\n",
            "1         Delhi\n",
            "2        Kanpur\n",
            "3       Chennai\n",
            "4        Manali\n",
            "Name: city, dtype: object\n"
          ]
        }
      ],
      "source": [
        "\n",
        "city = d1['city']\n",
        "print(city)\n",
        "\n",
        "\n"
      ]
    },
    {
      "cell_type": "markdown",
      "id": "28ae3c19",
      "metadata": {
        "id": "28ae3c19"
      },
      "source": [
        "print city <br>\n",
        "What is the type of city."
      ]
    },
    {
      "cell_type": "code",
      "execution_count": null,
      "id": "0e5a32a7",
      "metadata": {
        "id": "0e5a32a7",
        "outputId": "09cade29-8b14-4983-fd1e-fb80f3825c9a",
        "colab": {
          "base_uri": "https://localhost:8080/"
        }
      },
      "outputs": [
        {
          "output_type": "stream",
          "name": "stdout",
          "text": [
            "0    Chandigarh\n",
            "1         Delhi\n",
            "2        Kanpur\n",
            "3       Chennai\n",
            "4        Manali\n",
            "Name: city, dtype: object\n",
            "<class 'pandas.core.series.Series'>\n"
          ]
        }
      ],
      "source": [
        "\n",
        "city = d1['city']\n",
        "print(city)\n",
        "print(type(city))\n",
        "\n"
      ]
    },
    {
      "cell_type": "markdown",
      "id": "40c7eb56",
      "metadata": {
        "id": "40c7eb56"
      },
      "source": [
        "Create another datafeame 'd2' where the columns are <br>\n",
        "'city' - ['Bengalaru','Coimbatore','Srirangam','Pondicherry'] <br>\n",
        "'Temperature' - [24,35,36,39]"
      ]
    },
    {
      "cell_type": "code",
      "execution_count": null,
      "id": "36f3a500",
      "metadata": {
        "id": "36f3a500",
        "outputId": "ac0d222c-01f5-460a-b35a-7fd5e5150531",
        "colab": {
          "base_uri": "https://localhost:8080/"
        }
      },
      "outputs": [
        {
          "output_type": "stream",
          "name": "stdout",
          "text": [
            "          city  Temperature\n",
            "0    Bengalaru           24\n",
            "1   Coimbatore           35\n",
            "2    Srirangam           36\n",
            "3  Pondicherry           39\n"
          ]
        }
      ],
      "source": [
        "\n",
        "import pandas as pd\n",
        "\n",
        "\n",
        "d2 = pd.DataFrame({\n",
        "    'city': ['Bengalaru', 'Coimbatore', 'Srirangam', 'Pondicherry'],\n",
        "    'Temperature': [24, 35, 36, 39]\n",
        "})\n",
        "\n",
        "print(d2)\n",
        "\n"
      ]
    },
    {
      "cell_type": "markdown",
      "id": "e00b0f53",
      "metadata": {
        "id": "e00b0f53"
      },
      "source": [
        "print the shape of this dataframe"
      ]
    },
    {
      "cell_type": "code",
      "execution_count": null,
      "id": "891df840",
      "metadata": {
        "id": "891df840",
        "outputId": "f890c40f-a886-4031-8bf0-1a555f6f0d2c",
        "colab": {
          "base_uri": "https://localhost:8080/"
        }
      },
      "outputs": [
        {
          "output_type": "stream",
          "name": "stdout",
          "text": [
            "(4, 2)\n"
          ]
        }
      ],
      "source": [
        "print(d2.shape)\n"
      ]
    },
    {
      "cell_type": "markdown",
      "id": "07345bb7",
      "metadata": {
        "id": "07345bb7"
      },
      "source": [
        "merge the two dataframes together, save it in a new dataframe named 'd3'"
      ]
    },
    {
      "cell_type": "code",
      "execution_count": null,
      "id": "24ddf641",
      "metadata": {
        "id": "24ddf641",
        "outputId": "e2ce62de-a8d0-48d8-ac38-22a59ad7f054",
        "colab": {
          "base_uri": "https://localhost:8080/"
        }
      },
      "outputs": [
        {
          "output_type": "stream",
          "name": "stdout",
          "text": [
            "          city  Temperature\n",
            "0   Chandigarh           15\n",
            "1        Delhi           22\n",
            "2       Kanpur           20\n",
            "3      Chennai           26\n",
            "4       Manali           -2\n",
            "5    Bengalaru           24\n",
            "6   Coimbatore           35\n",
            "7    Srirangam           36\n",
            "8  Pondicherry           39\n"
          ]
        }
      ],
      "source": [
        "\n",
        "import pandas as pd\n",
        "\n",
        "\n",
        "\n",
        "d3 = pd.concat([d1, d2], ignore_index=True)\n",
        "print(d3)\n",
        "\n",
        "\n"
      ]
    },
    {
      "cell_type": "markdown",
      "id": "bb2c0bd0",
      "metadata": {
        "id": "bb2c0bd0"
      },
      "source": [
        "Select the part of the dataframe such that it contains cities wherer temp is less then or equal to 20 <br>\n",
        "How many cities are there?"
      ]
    },
    {
      "cell_type": "code",
      "execution_count": null,
      "id": "45028b79",
      "metadata": {
        "id": "45028b79",
        "outputId": "7505d522-5907-4df6-8ff1-f4dea6218e7c",
        "colab": {
          "base_uri": "https://localhost:8080/"
        }
      },
      "outputs": [
        {
          "output_type": "stream",
          "name": "stdout",
          "text": [
            "         city  Temperature\n",
            "0  Chandigarh           15\n",
            "2      Kanpur           20\n",
            "4      Manali           -2\n",
            "Number of cities: 3\n"
          ]
        }
      ],
      "source": [
        "\n",
        "cold_cities = d3[d3['Temperature'] <= 20]\n",
        "\n",
        "print(cold_cities)\n",
        "\n",
        "\n",
        "print(\"Number of cities:\", cold_cities.shape[0])\n",
        "\n"
      ]
    },
    {
      "cell_type": "markdown",
      "id": "bb6f5663",
      "metadata": {
        "id": "bb6f5663"
      },
      "source": [
        "Select the part of the dataframe such that it contains the cities where tempearature greater than or equal to 35"
      ]
    },
    {
      "cell_type": "code",
      "execution_count": null,
      "id": "bdf80f21",
      "metadata": {
        "id": "bdf80f21",
        "outputId": "d3408a93-b38e-46f7-cf83-c8d2a1b8a026",
        "colab": {
          "base_uri": "https://localhost:8080/"
        }
      },
      "outputs": [
        {
          "output_type": "stream",
          "name": "stdout",
          "text": [
            "          city  Temperature\n",
            "6   Coimbatore           35\n",
            "7    Srirangam           36\n",
            "8  Pondicherry           39\n",
            "Number of cities: 3\n"
          ]
        }
      ],
      "source": [
        "\n",
        "hot_cities = d3[d3['Temperature'] >= 35]\n",
        "\n",
        "print(hot_cities)\n",
        "\n",
        "\n",
        "print(\"Number of cities:\", hot_cities.shape[0])\n",
        "\n",
        "\n"
      ]
    },
    {
      "cell_type": "markdown",
      "id": "feb92bdd",
      "metadata": {
        "id": "feb92bdd"
      },
      "source": [
        "## Applying functions to columns and creating new columns"
      ]
    },
    {
      "cell_type": "markdown",
      "id": "ff93cad7",
      "metadata": {
        "id": "ff93cad7"
      },
      "source": [
        "We need to create another column in d3, which contains  a boolean value for each city to indicate whether it's a union territory or not.\n",
        "- HINT: Chandigarh, Pondicherry and Delhi are only 3 union territories here.\n"
      ]
    },
    {
      "cell_type": "code",
      "execution_count": null,
      "id": "967dea85",
      "metadata": {
        "id": "967dea85",
        "colab": {
          "base_uri": "https://localhost:8080/"
        },
        "outputId": "f390ce59-44dc-4ba7-de18-b6eb78ebfa58"
      },
      "outputs": [
        {
          "output_type": "stream",
          "name": "stdout",
          "text": [
            "          city  Temperature  is_UT\n",
            "0   Chandigarh           15   True\n",
            "1        Delhi           22   True\n",
            "2       Kanpur           20  False\n",
            "3      Chennai           26  False\n",
            "4       Manali           -2  False\n",
            "5    Bengalaru           24  False\n",
            "6   Coimbatore           35  False\n",
            "7    Srirangam           36  False\n",
            "8  Pondicherry           39   True\n"
          ]
        }
      ],
      "source": [
        "\n",
        "union_territories = ['Chandigarh', 'Pondicherry', 'Delhi']\n",
        "\n",
        "\n",
        "d3['is_UT'] = d3['city'].isin(union_territories)\n",
        "\n",
        "print(d3)"
      ]
    },
    {
      "cell_type": "markdown",
      "id": "ca27899f",
      "metadata": {
        "id": "ca27899f"
      },
      "source": [
        "The temperatures mentioned in ‘Temperature’ column are mentioned in Celsius, we need another column which contains the same in Fahrenheit."
      ]
    },
    {
      "cell_type": "markdown",
      "id": "07697f87",
      "metadata": {
        "id": "07697f87"
      },
      "source": [
        "HINT -\n",
        "- Define a function c_to_f which takes input temp in celsius and returns a value with temperature in Fahrenheit.\n",
        "- To check: c_to_f(10) should return 50.\n"
      ]
    },
    {
      "cell_type": "code",
      "execution_count": null,
      "id": "a54f0780",
      "metadata": {
        "id": "a54f0780",
        "colab": {
          "base_uri": "https://localhost:8080/",
          "height": 105
        },
        "outputId": "673146e2-98ee-420a-826a-ce060fe7a201"
      },
      "outputs": [
        {
          "output_type": "error",
          "ename": "SyntaxError",
          "evalue": "unexpected character after line continuation character (ipython-input-3688981148.py, line 4)",
          "traceback": [
            "\u001b[0;36m  File \u001b[0;32m\"/tmp/ipython-input-3688981148.py\"\u001b[0;36m, line \u001b[0;32m4\u001b[0m\n\u001b[0;31m    F = (C \\times \\frac{9}{5}) + 32\u001b[0m\n\u001b[0m            ^\u001b[0m\n\u001b[0;31mSyntaxError\u001b[0m\u001b[0;31m:\u001b[0m unexpected character after line continuation character\n"
          ]
        }
      ],
      "source": [
        "# write function here / formula\n",
        "\n",
        "\n",
        "#F = (C \\times \\frac{9}{5}) + 32\n",
        "\n",
        "\n"
      ]
    },
    {
      "cell_type": "code",
      "execution_count": null,
      "id": "c1409f21",
      "metadata": {
        "id": "c1409f21",
        "outputId": "6ad5a1ee-6137-4f22-cc2e-b8225d418295",
        "colab": {
          "base_uri": "https://localhost:8080/"
        }
      },
      "outputs": [
        {
          "output_type": "stream",
          "name": "stdout",
          "text": [
            "50.0\n",
            "          city  Temperature  is_UT  Temperature_F\n",
            "0   Chandigarh           15   True           59.0\n",
            "1        Delhi           22   True           71.6\n",
            "2       Kanpur           20  False           68.0\n",
            "3      Chennai           26  False           78.8\n",
            "4       Manali           -2  False           28.4\n",
            "5    Bengalaru           24  False           75.2\n",
            "6   Coimbatore           35  False           95.0\n",
            "7    Srirangam           36  False           96.8\n",
            "8  Pondicherry           39   True          102.2\n"
          ]
        }
      ],
      "source": [
        "\n",
        "def c_to_f(celsius):\n",
        "    return (celsius * 9/5) + 32\n",
        "\n",
        "\n",
        "print(c_to_f(10))\n",
        "\n",
        "\n",
        "d3['Temperature_F'] = d3['Temperature'].apply(c_to_f)\n",
        "\n",
        "print(d3)\n",
        "\n",
        "\n"
      ]
    },
    {
      "cell_type": "code",
      "execution_count": null,
      "id": "06ba4f3e",
      "metadata": {
        "id": "06ba4f3e",
        "outputId": "4b47e146-629e-4b2c-c2da-63bfe422fd50",
        "colab": {
          "base_uri": "https://localhost:8080/"
        }
      },
      "outputs": [
        {
          "output_type": "stream",
          "name": "stdout",
          "text": [
            "          city  Temperature  is_UT  Temperature_F  temp_farenhiet\n",
            "0   Chandigarh           15   True           59.0            59.0\n",
            "1        Delhi           22   True           71.6            71.6\n",
            "2       Kanpur           20  False           68.0            68.0\n",
            "3      Chennai           26  False           78.8            78.8\n",
            "4       Manali           -2  False           28.4            28.4\n",
            "5    Bengalaru           24  False           75.2            75.2\n",
            "6   Coimbatore           35  False           95.0            95.0\n",
            "7    Srirangam           36  False           96.8            96.8\n",
            "8  Pondicherry           39   True          102.2           102.2\n"
          ]
        }
      ],
      "source": [
        "# apply function c_to_f to d3 to create a column 'temp_farenhiet'\n",
        "\n",
        "\n",
        "def c_to_f(celsius):\n",
        "    return (celsius * 9/5) + 32\n",
        "\n",
        "\n",
        "d3['temp_farenhiet'] = d3['Temperature'].apply(c_to_f)\n",
        "\n",
        "\n",
        "print(d3)"
      ]
    },
    {
      "cell_type": "markdown",
      "id": "085d1bf2",
      "metadata": {
        "id": "085d1bf2"
      },
      "source": [
        "## Indexing and selecting rows in DataFrame"
      ]
    },
    {
      "cell_type": "markdown",
      "id": "0fec5722",
      "metadata": {
        "id": "0fec5722"
      },
      "source": [
        "Select subset of the dataframe d1 such that it contains the cities which are union territories."
      ]
    },
    {
      "cell_type": "code",
      "execution_count": null,
      "id": "9d943746",
      "metadata": {
        "id": "9d943746",
        "outputId": "2a90d939-917b-4917-8f91-ee68a39c0f4e",
        "colab": {
          "base_uri": "https://localhost:8080/"
        }
      },
      "outputs": [
        {
          "output_type": "stream",
          "name": "stdout",
          "text": [
            "         city  Temperature\n",
            "0  Chandigarh           15\n",
            "1       Delhi           22\n"
          ]
        }
      ],
      "source": [
        "\n",
        "\n",
        "ut_cities = d1[d1['city'].isin(['Chandigarh', 'Delhi'])]\n",
        "\n",
        "print(ut_cities)\n"
      ]
    },
    {
      "cell_type": "markdown",
      "id": "d8082b75",
      "metadata": {
        "id": "d8082b75"
      },
      "source": [
        "Select a subset of the dataframe d1 such that it contains the cities which only have temperature above 90 Farenhiet."
      ]
    },
    {
      "cell_type": "code",
      "execution_count": null,
      "id": "3903061f",
      "metadata": {
        "id": "3903061f",
        "outputId": "b7001204-6350-475c-8a87-4a02da6bb698",
        "colab": {
          "base_uri": "https://localhost:8080/"
        }
      },
      "outputs": [
        {
          "output_type": "stream",
          "name": "stdout",
          "text": [
            "Empty DataFrame\n",
            "Columns: [city, Temperature]\n",
            "Index: []\n"
          ]
        }
      ],
      "source": [
        "\n",
        "subset = d1[d1['Temperature'].apply(c_to_f) > 90]\n",
        "\n",
        "print(subset)\n",
        "\n",
        "\n"
      ]
    },
    {
      "cell_type": "markdown",
      "id": "0f08a0a5",
      "metadata": {
        "id": "0f08a0a5"
      },
      "source": [
        "Select only the first three rows of the dataframe d1.\n"
      ]
    },
    {
      "cell_type": "code",
      "execution_count": null,
      "id": "d896ea77",
      "metadata": {
        "id": "d896ea77",
        "outputId": "8a67f4c7-6a55-42a7-b74e-e3ca2b880ddc",
        "colab": {
          "base_uri": "https://localhost:8080/"
        }
      },
      "outputs": [
        {
          "output_type": "stream",
          "name": "stdout",
          "text": [
            "         city  Temperature\n",
            "0  Chandigarh           15\n",
            "1       Delhi           22\n",
            "2      Kanpur           20\n",
            "         city  Temperature\n",
            "0  Chandigarh           15\n",
            "1       Delhi           22\n",
            "2      Kanpur           20\n"
          ]
        }
      ],
      "source": [
        "\n",
        "print(d1.head(3))\n",
        "\n",
        "print(d1.iloc[:3])"
      ]
    },
    {
      "cell_type": "markdown",
      "id": "d5adf450",
      "metadata": {
        "id": "d5adf450"
      },
      "source": [
        "Select all the rows and last two columns in the dataframe.\n",
        "\n",
        "\n"
      ]
    },
    {
      "cell_type": "code",
      "execution_count": null,
      "id": "478f12c2",
      "metadata": {
        "id": "478f12c2",
        "outputId": "854593af-1897-478d-8ef8-4a0ad3f94283",
        "colab": {
          "base_uri": "https://localhost:8080/"
        }
      },
      "outputs": [
        {
          "output_type": "stream",
          "name": "stdout",
          "text": [
            "         city  Temperature\n",
            "0  Chandigarh           15\n",
            "1       Delhi           22\n",
            "2      Kanpur           20\n",
            "3     Chennai           26\n",
            "4      Manali           -2\n"
          ]
        }
      ],
      "source": [
        "# Select all rows and last two columns\n",
        "print(d1.iloc[:, -2:])\n"
      ]
    },
    {
      "cell_type": "markdown",
      "id": "041d3521",
      "metadata": {
        "id": "041d3521"
      },
      "source": [
        "## Groupby"
      ]
    },
    {
      "cell_type": "code",
      "execution_count": null,
      "id": "c6940864",
      "metadata": {
        "colab": {
          "base_uri": "https://localhost:8080/"
        },
        "id": "c6940864",
        "outputId": "f51d4259-8ccd-4835-f925-08a1bd298111"
      },
      "outputs": [
        {
          "output_type": "stream",
          "name": "stdout",
          "text": [
            "    Name  Age       City  Score\n",
            "0   shri   23      Delhi     85\n",
            "1  Omkar   29     Mumbai     90\n",
            "2    Sai   21    Chennai     78\n",
            "3  kajal   32  Bengaluru     88\n"
          ]
        }
      ],
      "source": [
        "# Create a dataframe using dictionary of your choice\n",
        "\n",
        "# data =\n",
        "import pandas as pd\n",
        "\n",
        "data = {\n",
        "    'Name': ['shri', 'Omkar', 'Sai', 'kajal'],\n",
        "    'Age': [23, 29, 21, 32],\n",
        "    'City': ['Delhi', 'Mumbai', 'Chennai', 'Bengaluru'],\n",
        "    'Score': [85, 90, 78, 88]\n",
        "}\n",
        "\n",
        "df = pd.DataFrame(data)\n",
        "\n",
        "print(df)\n",
        "\n"
      ]
    },
    {
      "cell_type": "code",
      "execution_count": null,
      "id": "14a90562",
      "metadata": {
        "colab": {
          "base_uri": "https://localhost:8080/"
        },
        "id": "14a90562",
        "outputId": "e61df2f5-2440-4885-913f-49ee22e37e5f"
      },
      "outputs": [
        {
          "output_type": "stream",
          "name": "stdout",
          "text": [
            "        Age  Score\n",
            "Name              \n",
            "Nidhi    29     70\n",
            "dipesh   23     95\n",
            "kajal    32     88\n",
            "omkar    29     90\n",
            "sai      21     78\n",
            "shri     23     85\n"
          ]
        }
      ],
      "source": [
        "# Use Groupby of single column with aggregate sum()\n",
        "\n",
        "import pandas as pd\n",
        "\n",
        "# Sample dataframe\n",
        "data = {\n",
        "    'Name': ['shri', 'omkar', 'sai', 'kajal', 'dipesh', 'Nidhi'],\n",
        "    'Age': [23, 29, 21, 32, 23, 29],\n",
        "    'City': ['Delhi', 'Mumbai', 'Chennai', 'Bengaluru', 'Delhi', 'Mumbai'],\n",
        "    'Score': [85, 90, 78, 88, 95, 70]\n",
        "}\n",
        "\n",
        "df = pd.DataFrame(data)\n",
        "\n",
        "grouped = df.groupby('Name').sum(numeric_only=True)\n",
        "\n",
        "print(grouped)\n"
      ]
    },
    {
      "cell_type": "code",
      "execution_count": null,
      "id": "284dc31b",
      "metadata": {
        "colab": {
          "base_uri": "https://localhost:8080/"
        },
        "id": "284dc31b",
        "outputId": "65969627-3ad2-4a92-d685-4e5195e93db0"
      },
      "outputs": [
        {
          "output_type": "stream",
          "name": "stdout",
          "text": [
            "Original DataFrame:\n",
            "     Name  Score\n",
            "0    shri     90\n",
            "1   omkar     85\n",
            "2     sai     88\n",
            "3   kajal     76\n",
            "4  dipesh     95\n",
            "5   Nidhi     80\n",
            "6    shri     70\n",
            "7     sai     60\n",
            "8   omkar     55\n",
            "\n",
            "GroupBy Count:\n",
            "        Score\n",
            "Name         \n",
            "Nidhi       1\n",
            "dipesh      1\n",
            "kajal       1\n",
            "omkar       2\n",
            "sai         2\n",
            "shri        2\n"
          ]
        }
      ],
      "source": [
        "# Use Groupby of single column with aggregate count()\n",
        "import pandas as pd\n",
        "\n",
        "# Create dataframe\n",
        "data = {\n",
        "    'Name': ['shri', 'omkar', 'sai', 'kajal', 'dipesh', 'Nidhi', 'shri', 'sai', 'omkar'],\n",
        "    'Score': [90, 85, 88, 76, 95, 80, 70, 60, 55]\n",
        "}\n",
        "\n",
        "df = pd.DataFrame(data)\n",
        "\n",
        "print(\"Original DataFrame:\")\n",
        "print(df)\n",
        "\n",
        "grouped = df.groupby('Name').count()\n",
        "\n",
        "print(\"\\nGroupBy Count:\")\n",
        "print(grouped)\n"
      ]
    },
    {
      "cell_type": "code",
      "execution_count": null,
      "id": "8e1c2b4b",
      "metadata": {
        "colab": {
          "base_uri": "https://localhost:8080/"
        },
        "id": "8e1c2b4b",
        "outputId": "8ef77516-9ce9-46f4-8ed7-418033c11c9b"
      },
      "outputs": [
        {
          "output_type": "stream",
          "name": "stdout",
          "text": [
            "Original DataFrame:\n",
            "     Name  Score\n",
            "0    shri     90\n",
            "1   omkar     85\n",
            "2     sai     88\n",
            "3   kajal     76\n",
            "4  dipesh     95\n",
            "5   Nidhi     80\n",
            "6    shri     70\n",
            "7     sai     60\n",
            "8   omkar     55\n",
            "\n",
            "GroupBy with min() and max():\n",
            "       Score    \n",
            "         min max\n",
            "Name            \n",
            "Nidhi     80  80\n",
            "dipesh    95  95\n",
            "kajal     76  76\n",
            "omkar     55  85\n",
            "sai       60  88\n",
            "shri      70  90\n"
          ]
        }
      ],
      "source": [
        "# Use Groupby of single column with aggregate min() and max()\n",
        "\n",
        "import pandas as pd\n",
        "\n",
        "data = {\n",
        "    'Name': ['shri', 'omkar', 'sai', 'kajal', 'dipesh', 'Nidhi', 'shri', 'sai', 'omkar'],\n",
        "    'Score': [90, 85, 88, 76, 95, 80, 70, 60, 55]\n",
        "}\n",
        "\n",
        "df = pd.DataFrame(data)\n",
        "\n",
        "print(\"Original DataFrame:\")\n",
        "print(df)\n",
        "\n",
        "grouped = df.groupby('Name').agg({'Score': ['min', 'max']})\n",
        "\n",
        "print(\"\\nGroupBy with min() and max():\")\n",
        "print(grouped)\n"
      ]
    },
    {
      "cell_type": "code",
      "execution_count": null,
      "id": "1a6a70b1",
      "metadata": {
        "colab": {
          "base_uri": "https://localhost:8080/"
        },
        "id": "1a6a70b1",
        "outputId": "e5cafb78-8d7f-49bb-f4fc-f4a28f4560d8"
      },
      "outputs": [
        {
          "output_type": "stream",
          "name": "stdout",
          "text": [
            "Original DataFrame:\n",
            "     Name  Subject  Score\n",
            "0    shri     Math     90\n",
            "1   omkar  Science     85\n",
            "2     sai     Math     88\n",
            "3   kajal  Science     76\n",
            "4  dipesh     Math     95\n",
            "5   Nidhi     Math     80\n",
            "6    shri  Science     70\n",
            "7     sai  Science     60\n",
            "8   omkar     Math     55\n",
            "9   kajal     Math     89\n",
            "\n",
            "GroupBy of 2 columns with mean():\n",
            "                Score\n",
            "Name   Subject       \n",
            "Nidhi  Math      80.0\n",
            "dipesh Math      95.0\n",
            "kajal  Math      89.0\n",
            "       Science   76.0\n",
            "omkar  Math      55.0\n",
            "       Science   85.0\n",
            "sai    Math      88.0\n",
            "       Science   60.0\n",
            "shri   Math      90.0\n",
            "       Science   70.0\n"
          ]
        }
      ],
      "source": [
        "# Use Groupby of any 2 columns with aggregate mean()\n",
        "\n",
        "import pandas as pd\n",
        "\n",
        "\n",
        "data = {\n",
        "    'Name': ['shri', 'omkar', 'sai', 'kajal', 'dipesh', 'Nidhi', 'shri', 'sai', 'omkar', 'kajal'],\n",
        "    'Subject': ['Math', 'Science', 'Math', 'Science', 'Math', 'Math', 'Science', 'Science', 'Math', 'Math'],\n",
        "    'Score': [90, 85, 88, 76, 95, 80, 70, 60, 55, 89]\n",
        "}\n",
        "\n",
        "df = pd.DataFrame(data)\n",
        "\n",
        "print(\"Original DataFrame:\")\n",
        "print(df)\n",
        "\n",
        "grouped = df.groupby(['Name', 'Subject']).mean(numeric_only=True)\n",
        "\n",
        "print(\"\\nGroupBy of 2 columns with mean():\")\n",
        "print(grouped)\n"
      ]
    },
    {
      "cell_type": "code",
      "execution_count": null,
      "id": "e1ede49b",
      "metadata": {
        "colab": {
          "base_uri": "https://localhost:8080/"
        },
        "id": "e1ede49b",
        "outputId": "ffca03c6-65b4-4937-e131-d57fde324263"
      },
      "outputs": [
        {
          "output_type": "stream",
          "name": "stdout",
          "text": [
            "Original DataFrame:\n",
            "     Name  Subject  Score\n",
            "0    shri     Math     90\n",
            "1   omkar  Science     85\n",
            "2     sai     Math     88\n",
            "3   kajal  Science     76\n",
            "4  dipesh     Math     95\n",
            "5   Nidhi     Math     80\n",
            "6    shri  Science     70\n",
            "7     sai  Science     60\n",
            "8   omkar     Math     55\n",
            "9   kajal     Math     89\n",
            "\n",
            "GroupBy of 2 columns with min() and max():\n",
            "               Score    \n",
            "                 min max\n",
            "Name   Subject          \n",
            "Nidhi  Math       80  80\n",
            "dipesh Math       95  95\n",
            "kajal  Math       89  89\n",
            "       Science    76  76\n",
            "omkar  Math       55  55\n",
            "       Science    85  85\n",
            "sai    Math       88  88\n",
            "       Science    60  60\n",
            "shri   Math       90  90\n",
            "       Science    70  70\n"
          ]
        }
      ],
      "source": [
        "# Use Groupby of any 2 columns with aggregate min() and max()\n",
        "import pandas as pd\n",
        "\n",
        "data = {\n",
        "    'Name': ['shri', 'omkar', 'sai', 'kajal', 'dipesh', 'Nidhi', 'shri', 'sai', 'omkar', 'kajal'],\n",
        "    'Subject': ['Math', 'Science', 'Math', 'Science', 'Math', 'Math', 'Science', 'Science', 'Math', 'Math'],\n",
        "    'Score': [90, 85, 88, 76, 95, 80, 70, 60, 55, 89]\n",
        "}\n",
        "\n",
        "df = pd.DataFrame(data)\n",
        "\n",
        "print(\"Original DataFrame:\")\n",
        "print(df)\n",
        "\n",
        "grouped = df.groupby(['Name', 'Subject']).agg(['min', 'max'])\n",
        "\n",
        "print(\"\\nGroupBy of 2 columns with min() and max():\")\n",
        "print(grouped)\n",
        "\n"
      ]
    },
    {
      "cell_type": "code",
      "execution_count": null,
      "id": "07c1251b",
      "metadata": {
        "id": "07c1251b"
      },
      "outputs": [],
      "source": []
    },
    {
      "cell_type": "markdown",
      "id": "5a5c3fd6",
      "metadata": {
        "id": "5a5c3fd6"
      },
      "source": [
        "## Data Range"
      ]
    },
    {
      "cell_type": "markdown",
      "id": "3ab1dfbd",
      "metadata": {
        "id": "3ab1dfbd"
      },
      "source": [
        "Create a pandas daterange where starting date is 1st of January,2020 and end date is 1st of April 2021, store it in a new variable named 'a'"
      ]
    },
    {
      "cell_type": "code",
      "execution_count": null,
      "id": "1c4729f6",
      "metadata": {
        "id": "1c4729f6",
        "colab": {
          "base_uri": "https://localhost:8080/"
        },
        "outputId": "dcf8afd4-ad23-42a6-dfd2-25bfc690a2f8"
      },
      "outputs": [
        {
          "output_type": "stream",
          "name": "stdout",
          "text": [
            "DatetimeIndex(['2020-01-01', '2020-01-02', '2020-01-03', '2020-01-04',\n",
            "               '2020-01-05', '2020-01-06', '2020-01-07', '2020-01-08',\n",
            "               '2020-01-09', '2020-01-10',\n",
            "               ...\n",
            "               '2021-03-23', '2021-03-24', '2021-03-25', '2021-03-26',\n",
            "               '2021-03-27', '2021-03-28', '2021-03-29', '2021-03-30',\n",
            "               '2021-03-31', '2021-04-01'],\n",
            "              dtype='datetime64[ns]', length=457, freq='D')\n"
          ]
        }
      ],
      "source": [
        "import pandas as pd\n",
        "\n",
        "a = pd.date_range(start='2020-01-01', end='2021-04-01')\n",
        "\n",
        "print(a)\n",
        "\n"
      ]
    },
    {
      "cell_type": "markdown",
      "id": "16599324",
      "metadata": {
        "id": "16599324"
      },
      "source": [
        "print a"
      ]
    },
    {
      "cell_type": "code",
      "execution_count": null,
      "id": "500d4ead",
      "metadata": {
        "id": "500d4ead",
        "outputId": "976669f2-84a0-487e-c9ae-2521d2bce017",
        "colab": {
          "base_uri": "https://localhost:8080/"
        }
      },
      "outputs": [
        {
          "output_type": "stream",
          "name": "stdout",
          "text": [
            "DatetimeIndex(['2020-01-01', '2020-01-02', '2020-01-03', '2020-01-04',\n",
            "               '2020-01-05', '2020-01-06', '2020-01-07', '2020-01-08',\n",
            "               '2020-01-09', '2020-01-10',\n",
            "               ...\n",
            "               '2021-03-23', '2021-03-24', '2021-03-25', '2021-03-26',\n",
            "               '2021-03-27', '2021-03-28', '2021-03-29', '2021-03-30',\n",
            "               '2021-03-31', '2021-04-01'],\n",
            "              dtype='datetime64[ns]', length=457, freq='D')\n"
          ]
        }
      ],
      "source": [
        "\n",
        "print(a)\n"
      ]
    },
    {
      "cell_type": "markdown",
      "id": "fc02e05a",
      "metadata": {
        "id": "fc02e05a"
      },
      "source": [
        "What is the len of a?"
      ]
    },
    {
      "cell_type": "code",
      "execution_count": null,
      "id": "fc7fe00f",
      "metadata": {
        "id": "fc7fe00f",
        "outputId": "1879bb7f-5797-4fe5-af75-2456f0b46181",
        "colab": {
          "base_uri": "https://localhost:8080/"
        }
      },
      "outputs": [
        {
          "output_type": "execute_result",
          "data": {
            "text/plain": [
              "457"
            ]
          },
          "metadata": {},
          "execution_count": 73
        }
      ],
      "source": [
        "\n",
        "len(a)\n"
      ]
    },
    {
      "cell_type": "markdown",
      "id": "c368ed9c",
      "metadata": {
        "id": "c368ed9c"
      },
      "source": [
        "What is the type of a?"
      ]
    },
    {
      "cell_type": "code",
      "execution_count": null,
      "id": "f03fb370",
      "metadata": {
        "id": "f03fb370",
        "outputId": "2c0757f9-12bd-4c4c-d5d6-1bfa204e39ba",
        "colab": {
          "base_uri": "https://localhost:8080/"
        }
      },
      "outputs": [
        {
          "output_type": "execute_result",
          "data": {
            "text/plain": [
              "pandas.core.indexes.datetimes.DatetimeIndex"
            ]
          },
          "metadata": {},
          "execution_count": 75
        }
      ],
      "source": [
        "type(a)\n",
        "\n",
        "\n"
      ]
    },
    {
      "cell_type": "code",
      "execution_count": null,
      "metadata": {
        "id": "bT8FH09S5n_I"
      },
      "outputs": [],
      "source": [],
      "id": "bT8FH09S5n_I"
    }
  ],
  "metadata": {
    "colab": {
      "provenance": [],
      "include_colab_link": true
    },
    "kernelspec": {
      "display_name": "Python 3",
      "language": "python",
      "name": "python3"
    },
    "language_info": {
      "codemirror_mode": {
        "name": "ipython",
        "version": 3
      },
      "file_extension": ".py",
      "mimetype": "text/x-python",
      "name": "python",
      "nbconvert_exporter": "python",
      "pygments_lexer": "ipython3",
      "version": "3.12.4"
    }
  },
  "nbformat": 4,
  "nbformat_minor": 5
}